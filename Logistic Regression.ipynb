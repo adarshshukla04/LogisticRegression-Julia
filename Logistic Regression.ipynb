{
 "cells": [
  {
   "cell_type": "code",
   "execution_count": 1,
   "metadata": {},
   "outputs": [
    {
     "name": "stderr",
     "output_type": "stream",
     "text": [
      "\u001b[32m\u001b[1m    Updating\u001b[22m\u001b[39m registry at `C:\\Users\\Adarsh\\.julia\\registries\\General`\n",
      "\u001b[32m\u001b[1m    Updating\u001b[22m\u001b[39m git-repo `https://github.com/JuliaRegistries/General.git`\n",
      "\u001b[32m\u001b[1m   Resolving\u001b[22m\u001b[39m package versions...\n",
      "\u001b[32m\u001b[1m  No Changes\u001b[22m\u001b[39m to `C:\\Users\\Adarsh\\.julia\\environments\\v1.6\\Project.toml`\n",
      "\u001b[32m\u001b[1m  No Changes\u001b[22m\u001b[39m to `C:\\Users\\Adarsh\\.julia\\environments\\v1.6\\Manifest.toml`\n",
      "\u001b[32m\u001b[1m   Resolving\u001b[22m\u001b[39m package versions...\n",
      "\u001b[32m\u001b[1m  No Changes\u001b[22m\u001b[39m to `C:\\Users\\Adarsh\\.julia\\environments\\v1.6\\Project.toml`\n",
      "\u001b[32m\u001b[1m  No Changes\u001b[22m\u001b[39m to `C:\\Users\\Adarsh\\.julia\\environments\\v1.6\\Manifest.toml`\n",
      "\u001b[32m\u001b[1m   Resolving\u001b[22m\u001b[39m package versions...\n",
      "\u001b[32m\u001b[1m  No Changes\u001b[22m\u001b[39m to `C:\\Users\\Adarsh\\.julia\\environments\\v1.6\\Project.toml`\n",
      "\u001b[32m\u001b[1m  No Changes\u001b[22m\u001b[39m to `C:\\Users\\Adarsh\\.julia\\environments\\v1.6\\Manifest.toml`\n"
     ]
    }
   ],
   "source": [
    "using Pkg\n",
    "Pkg.add(\"CSV\")\n",
    "Pkg.add(\"Plots\")\n",
    "Pkg.add(\"DataFrames\")"
   ]
  },
  {
   "cell_type": "code",
   "execution_count": 2,
   "metadata": {},
   "outputs": [
    {
     "name": "stderr",
     "output_type": "stream",
     "text": [
      "\u001b[32m\u001b[1m   Resolving\u001b[22m\u001b[39m package versions...\n",
      "\u001b[32m\u001b[1m    Updating\u001b[22m\u001b[39m `C:\\Users\\Adarsh\\.julia\\environments\\v1.6\\Project.toml`\n",
      " \u001b[90m [2913bbd2] \u001b[39m\u001b[92m+ StatsBase v0.33.5\u001b[39m\n",
      "\u001b[32m\u001b[1m  No Changes\u001b[22m\u001b[39m to `C:\\Users\\Adarsh\\.julia\\environments\\v1.6\\Manifest.toml`\n",
      "\u001b[32m\u001b[1m   Resolving\u001b[22m\u001b[39m package versions...\n",
      "\u001b[32m\u001b[1m   Installed\u001b[22m\u001b[39m Lathe ────────────────── v0.0.9\n",
      "\u001b[32m\u001b[1m   Installed\u001b[22m\u001b[39m DiffResults ──────────── v1.0.3\n",
      "\u001b[32m\u001b[1m   Installed\u001b[22m\u001b[39m CommonSubexpressions ─── v0.3.0\n",
      "\u001b[32m\u001b[1m   Installed\u001b[22m\u001b[39m ClassImbalance ───────── v0.8.7\n",
      "\u001b[32m\u001b[1m   Installed\u001b[22m\u001b[39m CategoricalArrays ────── v0.7.7\n",
      "\u001b[32m\u001b[1m   Installed\u001b[22m\u001b[39m StatsBase ────────────── v0.32.2\n",
      "\u001b[32m\u001b[1m   Installed\u001b[22m\u001b[39m DataFrames ───────────── v0.20.2\n",
      "\u001b[32m\u001b[1m   Installed\u001b[22m\u001b[39m NLSolversBase ────────── v7.5.0\n",
      "\u001b[32m\u001b[1m   Installed\u001b[22m\u001b[39m PooledArrays ─────────── v0.5.3\n",
      "\u001b[32m\u001b[1m   Installed\u001b[22m\u001b[39m FillArrays ───────────── v0.8.14\n",
      "\u001b[32m\u001b[1m   Installed\u001b[22m\u001b[39m LineSearches ─────────── v7.1.1\n",
      "\u001b[32m\u001b[1m   Installed\u001b[22m\u001b[39m ArrayInterface ───────── v2.14.17\n",
      "\u001b[32m\u001b[1m   Installed\u001b[22m\u001b[39m UnPack ───────────────── v1.0.2\n",
      "\u001b[32m\u001b[1m   Installed\u001b[22m\u001b[39m SpecialFunctions ─────── v0.10.3\n",
      "\u001b[32m\u001b[1m   Installed\u001b[22m\u001b[39m PDMats ───────────────── v0.9.12\n",
      "\u001b[32m\u001b[1m   Installed\u001b[22m\u001b[39m KernelDensity ────────── v0.5.1\n",
      "\u001b[32m\u001b[1m   Installed\u001b[22m\u001b[39m PositiveFactorizations ─ v0.2.4\n",
      "\u001b[32m\u001b[1m   Installed\u001b[22m\u001b[39m DiffRules ────────────── v1.0.2\n",
      "\u001b[32m\u001b[1m   Installed\u001b[22m\u001b[39m Tables ───────────────── v1.4.2\n",
      "\u001b[32m\u001b[1m   Installed\u001b[22m\u001b[39m ForwardDiff ──────────── v0.10.18\n",
      "\u001b[32m\u001b[1m   Installed\u001b[22m\u001b[39m DataStructures ───────── v0.17.20\n",
      "\u001b[32m\u001b[1m   Installed\u001b[22m\u001b[39m Calculus ─────────────── v0.5.1\n",
      "\u001b[32m\u001b[1m   Installed\u001b[22m\u001b[39m DiffEqDiffTools ──────── v1.7.0\n",
      "\u001b[32m\u001b[1m   Installed\u001b[22m\u001b[39m Parameters ───────────── v0.12.2\n",
      "\u001b[32m\u001b[1m   Installed\u001b[22m\u001b[39m StaticArrays ─────────── v0.12.5\n",
      "\u001b[32m\u001b[1m   Installed\u001b[22m\u001b[39m Distributions ────────── v0.22.6\n",
      "\u001b[32m\u001b[1m   Installed\u001b[22m\u001b[39m Optim ────────────────── v0.22.0\n",
      "\u001b[32m\u001b[1m   Installed\u001b[22m\u001b[39m ColorSchemes ─────────── v3.12.0\n",
      "\u001b[32m\u001b[1m   Installed\u001b[22m\u001b[39m Interpolations ───────── v0.12.10\n",
      "\u001b[32m\u001b[1m   Installed\u001b[22m\u001b[39m GR ───────────────────── v0.57.4\n",
      "\u001b[32m\u001b[1m    Updating\u001b[22m\u001b[39m `C:\\Users\\Adarsh\\.julia\\environments\\v1.6\\Project.toml`\n",
      " \u001b[90m [04a18a73] \u001b[39m\u001b[92m+ ClassImbalance v0.8.7\u001b[39m\n",
      " \u001b[90m [a93c6f00] \u001b[39m\u001b[95m↓ DataFrames v0.22.7 ⇒ v0.20.2\u001b[39m\n",
      " \u001b[90m [38d8eb38] \u001b[39m\u001b[95m↓ Lathe v0.1.7 ⇒ v0.0.9\u001b[39m\n",
      " \u001b[90m [2913bbd2] \u001b[39m\u001b[95m↓ StatsBase v0.33.5 ⇒ v0.32.2\u001b[39m\n",
      "\u001b[32m\u001b[1m    Updating\u001b[22m\u001b[39m `C:\\Users\\Adarsh\\.julia\\environments\\v1.6\\Manifest.toml`\n",
      " \u001b[90m [4fba245c] \u001b[39m\u001b[92m+ ArrayInterface v2.14.17\u001b[39m\n",
      " \u001b[90m [ab4f0b2a] \u001b[39m\u001b[91m- BFloat16s v0.1.0\u001b[39m\n",
      " \u001b[90m [fa961155] \u001b[39m\u001b[91m- CEnum v0.4.1\u001b[39m\n",
      " \u001b[90m [052768ef] \u001b[39m\u001b[91m- CUDA v2.6.3\u001b[39m\n",
      " \u001b[90m [49dc2e85] \u001b[39m\u001b[92m+ Calculus v0.5.1\u001b[39m\n",
      " \u001b[90m [324d7699] \u001b[39m\u001b[95m↓ CategoricalArrays v0.9.5 ⇒ v0.7.7\u001b[39m\n",
      " \u001b[90m [d360d2e6] \u001b[39m\u001b[91m- ChainRulesCore v0.9.37\u001b[39m\n",
      " \u001b[90m [04a18a73] \u001b[39m\u001b[92m+ ClassImbalance v0.8.7\u001b[39m\n",
      " \u001b[90m [35d6a980] \u001b[39m\u001b[93m↑ ColorSchemes v3.11.0 ⇒ v3.12.0\u001b[39m\n",
      " \u001b[90m [bbf7d656] \u001b[39m\u001b[92m+ CommonSubexpressions v0.3.0\u001b[39m\n",
      " \u001b[90m [a8cc5b0e] \u001b[39m\u001b[91m- Crayons v4.0.4\u001b[39m\n",
      " \u001b[90m [a93c6f00] \u001b[39m\u001b[95m↓ DataFrames v0.22.7 ⇒ v0.20.2\u001b[39m\n",
      " \u001b[90m [864edb3b] \u001b[39m\u001b[95m↓ DataStructures v0.18.9 ⇒ v0.17.20\u001b[39m\n",
      " \u001b[90m [01453d9d] \u001b[39m\u001b[92m+ DiffEqDiffTools v1.7.0\u001b[39m\n",
      " \u001b[90m [163ba53b] \u001b[39m\u001b[92m+ DiffResults v1.0.3\u001b[39m\n",
      " \u001b[90m [b552c78f] \u001b[39m\u001b[92m+ DiffRules v1.0.2\u001b[39m\n",
      " \u001b[90m [31c24e10] \u001b[39m\u001b[95m↓ Distributions v0.24.15 ⇒ v0.22.6\u001b[39m\n",
      " \u001b[90m [ffbed154] \u001b[39m\u001b[91m- DocStringExtensions v0.8.4\u001b[39m\n",
      " \u001b[90m [e2ba6199] \u001b[39m\u001b[91m- ExprTools v0.1.3\u001b[39m\n",
      " \u001b[90m [1a297f60] \u001b[39m\u001b[95m↓ FillArrays v0.11.7 ⇒ v0.8.14\u001b[39m\n",
      " \u001b[90m [f6369f11] \u001b[39m\u001b[92m+ ForwardDiff v0.10.18\u001b[39m\n",
      " \u001b[90m [0c68f7d7] \u001b[39m\u001b[91m- GPUArrays v6.2.2\u001b[39m\n",
      " \u001b[90m [61eb1bfa] \u001b[39m\u001b[91m- GPUCompiler v0.10.0\u001b[39m\n",
      " \u001b[90m [28b8d3ca] \u001b[39m\u001b[93m↑ GR v0.57.3 ⇒ v0.57.4\u001b[39m\n",
      " \u001b[90m [a98d9a8b] \u001b[39m\u001b[95m↓ Interpolations v0.13.1 ⇒ v0.12.10\u001b[39m\n",
      " \u001b[90m [5ab0869b] \u001b[39m\u001b[95m↓ KernelDensity v0.6.2 ⇒ v0.5.1\u001b[39m\n",
      " \u001b[90m [929cbde3] \u001b[39m\u001b[91m- LLVM v3.6.0\u001b[39m\n",
      " \u001b[90m [38d8eb38] \u001b[39m\u001b[95m↓ Lathe v0.1.7 ⇒ v0.0.9\u001b[39m\n",
      " \u001b[90m [d3d80556] \u001b[39m\u001b[92m+ LineSearches v7.1.1\u001b[39m\n",
      " \u001b[90m [c03570c3] \u001b[39m\u001b[91m- Memoize v0.4.4\u001b[39m\n",
      " \u001b[90m [d41bc354] \u001b[39m\u001b[92m+ NLSolversBase v7.5.0\u001b[39m\n",
      " \u001b[90m [872c559c] \u001b[39m\u001b[91m- NNlib v0.7.18\u001b[39m\n",
      " \u001b[90m [429524aa] \u001b[39m\u001b[92m+ Optim v0.22.0\u001b[39m\n",
      " \u001b[90m [90014a1f] \u001b[39m\u001b[95m↓ PDMats v0.11.0 ⇒ v0.9.12\u001b[39m\n",
      " \u001b[90m [d96e819e] \u001b[39m\u001b[92m+ Parameters v0.12.2\u001b[39m\n",
      " \u001b[90m [2dfb63ee] \u001b[39m\u001b[95m↓ PooledArrays v1.2.1 ⇒ v0.5.3\u001b[39m\n",
      " \u001b[90m [85a6dd25] \u001b[39m\u001b[92m+ PositiveFactorizations v0.2.4\u001b[39m\n",
      " \u001b[90m [08abe8d2] \u001b[39m\u001b[91m- PrettyTables v0.11.1\u001b[39m\n",
      " \u001b[90m [276daf66] \u001b[39m\u001b[95m↓ SpecialFunctions v1.3.0 ⇒ v0.10.3\u001b[39m\n",
      " \u001b[90m [90137ffa] \u001b[39m\u001b[95m↓ StaticArrays v1.1.0 ⇒ v0.12.5\u001b[39m\n",
      " \u001b[90m [2913bbd2] \u001b[39m\u001b[95m↓ StatsBase v0.33.5 ⇒ v0.32.2\u001b[39m\n",
      " \u001b[90m [856f2bd8] \u001b[39m\u001b[91m- StructTypes v1.5.2\u001b[39m\n",
      " \u001b[90m [bd369af6] \u001b[39m\u001b[93m↑ Tables v1.4.1 ⇒ v1.4.2\u001b[39m\n",
      " \u001b[90m [a759f4b9] \u001b[39m\u001b[91m- TimerOutputs v0.5.8\u001b[39m\n",
      " \u001b[90m [3a884ed6] \u001b[39m\u001b[92m+ UnPack v1.0.2\u001b[39m\n",
      "\u001b[32m\u001b[1m    Building\u001b[22m\u001b[39m GR → `C:\\Users\\Adarsh\\.julia\\scratchspaces\\44cfe95a-1eb2-52ea-b672-e2afdf69b78f\\011458b83178ac913dc4eb73b229af45bdde5d83\\build.log`\n",
      "\u001b[32m\u001b[1mPrecompiling\u001b[22m\u001b[39m project...\n",
      "\u001b[32m  ✓ \u001b[39m\u001b[90mUnPack\u001b[39m\n",
      "\u001b[32m  ✓ \u001b[39m\u001b[90mPositiveFactorizations\u001b[39m\n",
      "\u001b[32m  ✓ \u001b[39m\u001b[90mCalculus\u001b[39m\n",
      "\u001b[32m  ✓ \u001b[39m\u001b[90mFillArrays\u001b[39m\n",
      "\u001b[32m  ✓ \u001b[39m\u001b[90mPooledArrays\u001b[39m\n",
      "\u001b[32m  ✓ \u001b[39m\u001b[90mArrayInterface\u001b[39m\n",
      "\u001b[32m  ✓ \u001b[39m\u001b[90mTables\u001b[39m\n",
      "\u001b[32m  ✓ \u001b[39m\u001b[90mDataStructures\u001b[39m\n",
      "\u001b[32m  ✓ \u001b[39m\u001b[90mCommonSubexpressions\u001b[39m\n",
      "\u001b[32m  ✓ \u001b[39m\u001b[90mPDMats\u001b[39m\n",
      "\u001b[32m  ✓ \u001b[39m\u001b[90mParameters\u001b[39m\n",
      "\u001b[32m  ✓ \u001b[39m\u001b[90mGR\u001b[39m\n",
      "\u001b[32m  ✓ \u001b[39m\u001b[90mSpecialFunctions\u001b[39m\n",
      "\u001b[32m  ✓ \u001b[39m\u001b[90mStaticArrays\u001b[39m\n",
      "\u001b[32m  ✓ \u001b[39m\u001b[90mTableOperations\u001b[39m\n",
      "\u001b[32m  ✓ \u001b[39m\u001b[90mStructArrays\u001b[39m\n",
      "\u001b[32m  ✓ \u001b[39m\u001b[90mSortingAlgorithms\u001b[39m\n",
      "\u001b[32m  ✓ \u001b[39m\u001b[90mDiffRules\u001b[39m\n",
      "\u001b[32m  ✓ \u001b[39m\u001b[90mQuadGK\u001b[39m\n",
      "\u001b[32m  ✓ \u001b[39m\u001b[90mCategoricalArrays\u001b[39m\n",
      "\u001b[32m  ✓ \u001b[39m\u001b[90mStatsFuns\u001b[39m\n",
      "\u001b[32m  ✓ \u001b[39m\u001b[90mDiffResults\u001b[39m\n",
      "\u001b[32m  ✓ \u001b[39m\u001b[90mNearestNeighbors\u001b[39m\n",
      "\u001b[32m  ✓ \u001b[39m\u001b[90mContour\u001b[39m\n",
      "\u001b[32m  ✓ \u001b[39m\u001b[90mDiffEqDiffTools\u001b[39m\n",
      "\u001b[32m  ✓ \u001b[39m\u001b[90mInterpolations\u001b[39m\n",
      "\u001b[32m  ✓ \u001b[39mStatsBase\n",
      "\u001b[32m  ✓ \u001b[39mCSV\n",
      "\u001b[32m  ✓ \u001b[39m\u001b[90mClustering\u001b[39m\n",
      "\u001b[32m  ✓ \u001b[39mDataFrames\n",
      "\u001b[32m  ✓ \u001b[39m\u001b[90mGeometryBasics\u001b[39m\n",
      "\u001b[32m  ✓ \u001b[39m\u001b[90mForwardDiff\u001b[39m\n",
      "\u001b[32m  ✓ \u001b[39m\u001b[90mColorSchemes\u001b[39m\n",
      "\u001b[32m  ✓ \u001b[39m\u001b[90mMultivariateStats\u001b[39m\n",
      "\u001b[32m  ✓ \u001b[39mMLBase\n",
      "\u001b[32m  ✓ \u001b[39m\u001b[90mStatsModels\u001b[39m\n",
      "\u001b[32m  ✓ \u001b[39mLathe\n",
      "\u001b[32m  ✓ \u001b[39m\u001b[90mNLSolversBase\u001b[39m\n",
      "\u001b[32m  ✓ \u001b[39m\u001b[90mDistributions\u001b[39m\n",
      "\u001b[32m  ✓ \u001b[39m\u001b[90mLineSearches\u001b[39m\n",
      "\u001b[32m  ✓ \u001b[39mGLM\n",
      "\u001b[32m  ✓ \u001b[39m\u001b[90mPlotUtils\u001b[39m\n",
      "\u001b[32m  ✓ \u001b[39mClassImbalance\n",
      "\u001b[32m  ✓ \u001b[39m\u001b[90mOptim\u001b[39m\n",
      "\u001b[32m  ✓ \u001b[39m\u001b[90mRecipesPipeline\u001b[39m\n",
      "\u001b[32m  ✓ \u001b[39m\u001b[90mKernelDensity\u001b[39m\n",
      "\u001b[32m  ✓ \u001b[39m\u001b[90mPlotThemes\u001b[39m\n",
      "\u001b[32m  ✓ \u001b[39mPlots\n",
      "\u001b[32m  ✓ \u001b[39mStatsPlots\n",
      "49 dependencies successfully precompiled in 107 seconds (128 already precompiled)\n",
      "\u001b[32m\u001b[1m   Resolving\u001b[22m\u001b[39m package versions...\n",
      "\u001b[32m\u001b[1m   Installed\u001b[22m\u001b[39m ROCAnalysis ─ v0.3.2\n",
      "\u001b[32m\u001b[1m    Updating\u001b[22m\u001b[39m `C:\\Users\\Adarsh\\.julia\\environments\\v1.6\\Project.toml`\n",
      " \u001b[90m [f535d66d] \u001b[39m\u001b[92m+ ROCAnalysis v0.3.2\u001b[39m\n",
      "\u001b[32m\u001b[1m    Updating\u001b[22m\u001b[39m `C:\\Users\\Adarsh\\.julia\\environments\\v1.6\\Manifest.toml`\n",
      " \u001b[90m [f535d66d] \u001b[39m\u001b[92m+ ROCAnalysis v0.3.2\u001b[39m\n",
      "\u001b[32m\u001b[1mPrecompiling\u001b[22m\u001b[39m project...\n",
      "\u001b[32m  ✓ \u001b[39mROCAnalysis\n",
      "1 dependency successfully precompiled in 6 seconds (177 already precompiled)\n"
     ]
    },
    {
     "data": {
      "text/plain": [
       "1000"
      ]
     },
     "execution_count": 2,
     "metadata": {},
     "output_type": "execute_result"
    }
   ],
   "source": [
    "Pkg.add(\"StatsBase\")\n",
    "Pkg.add(\"ClassImbalance\")\n",
    "Pkg.add(\"ROCAnalysis\")\n",
    "using DataFrames\n",
    "using CSV\n",
    "using Plots\n",
    "using GLM\n",
    "using StatsBase\n",
    "using Lathe\n",
    "using MLBase\n",
    "using ClassImbalance\n",
    "using ROCAnalysis\n",
    "\n",
    "#Enable printing of 1000 columns\n",
    "ENV[\"COLUMNS\"] = 1000"
   ]
  },
  {
   "cell_type": "markdown",
   "metadata": {},
   "source": [
    "# Loading the Data in the noatebook"
   ]
  },
  {
   "cell_type": "code",
   "execution_count": 11,
   "metadata": {},
   "outputs": [
    {
     "data": {
      "text/html": [
       "<table class=\"data-frame\"><thead><tr><th></th><th>RowNumber</th><th>CustomerId</th><th>Surname</th><th>CreditScore</th><th>Geography</th><th>Gender</th><th>Age</th><th>Tenure</th><th>Balance</th><th>NumOfProducts</th><th>HasCrCard</th><th>IsActiveMember</th><th>EstimatedSalary</th><th>Exited</th></tr><tr><th></th><th>Int64</th><th>Int64</th><th>String</th><th>Int64</th><th>String</th><th>String</th><th>Int64</th><th>Int64</th><th>Float64</th><th>Int64</th><th>Int64</th><th>Int64</th><th>Float64</th><th>Int64</th></tr></thead><tbody><p>10,000 rows × 14 columns</p><tr><th>1</th><td>1</td><td>15634602</td><td>Hargrave</td><td>619</td><td>France</td><td>Female</td><td>42</td><td>2</td><td>0.0</td><td>1</td><td>1</td><td>1</td><td>1.01349e5</td><td>1</td></tr><tr><th>2</th><td>2</td><td>15647311</td><td>Hill</td><td>608</td><td>Spain</td><td>Female</td><td>41</td><td>1</td><td>83807.9</td><td>1</td><td>0</td><td>1</td><td>1.12543e5</td><td>0</td></tr><tr><th>3</th><td>3</td><td>15619304</td><td>Onio</td><td>502</td><td>France</td><td>Female</td><td>42</td><td>8</td><td>1.59661e5</td><td>3</td><td>1</td><td>0</td><td>1.13932e5</td><td>1</td></tr><tr><th>4</th><td>4</td><td>15701354</td><td>Boni</td><td>699</td><td>France</td><td>Female</td><td>39</td><td>1</td><td>0.0</td><td>2</td><td>0</td><td>0</td><td>93826.6</td><td>0</td></tr><tr><th>5</th><td>5</td><td>15737888</td><td>Mitchell</td><td>850</td><td>Spain</td><td>Female</td><td>43</td><td>2</td><td>1.25511e5</td><td>1</td><td>1</td><td>1</td><td>79084.1</td><td>0</td></tr><tr><th>6</th><td>6</td><td>15574012</td><td>Chu</td><td>645</td><td>Spain</td><td>Male</td><td>44</td><td>8</td><td>1.13756e5</td><td>2</td><td>1</td><td>0</td><td>1.49757e5</td><td>1</td></tr><tr><th>7</th><td>7</td><td>15592531</td><td>Bartlett</td><td>822</td><td>France</td><td>Male</td><td>50</td><td>7</td><td>0.0</td><td>2</td><td>1</td><td>1</td><td>10062.8</td><td>0</td></tr><tr><th>8</th><td>8</td><td>15656148</td><td>Obinna</td><td>376</td><td>Germany</td><td>Female</td><td>29</td><td>4</td><td>1.15047e5</td><td>4</td><td>1</td><td>0</td><td>1.19347e5</td><td>1</td></tr><tr><th>9</th><td>9</td><td>15792365</td><td>He</td><td>501</td><td>France</td><td>Male</td><td>44</td><td>4</td><td>1.42051e5</td><td>2</td><td>0</td><td>1</td><td>74940.5</td><td>0</td></tr><tr><th>10</th><td>10</td><td>15592389</td><td>H?</td><td>684</td><td>France</td><td>Male</td><td>27</td><td>2</td><td>1.34604e5</td><td>1</td><td>1</td><td>1</td><td>71725.7</td><td>0</td></tr><tr><th>11</th><td>11</td><td>15767821</td><td>Bearce</td><td>528</td><td>France</td><td>Male</td><td>31</td><td>6</td><td>1.02017e5</td><td>2</td><td>0</td><td>0</td><td>80181.1</td><td>0</td></tr><tr><th>12</th><td>12</td><td>15737173</td><td>Andrews</td><td>497</td><td>Spain</td><td>Male</td><td>24</td><td>3</td><td>0.0</td><td>2</td><td>1</td><td>0</td><td>76390.0</td><td>0</td></tr><tr><th>13</th><td>13</td><td>15632264</td><td>Kay</td><td>476</td><td>France</td><td>Female</td><td>34</td><td>10</td><td>0.0</td><td>2</td><td>1</td><td>0</td><td>26261.0</td><td>0</td></tr><tr><th>14</th><td>14</td><td>15691483</td><td>Chin</td><td>549</td><td>France</td><td>Female</td><td>25</td><td>5</td><td>0.0</td><td>2</td><td>0</td><td>0</td><td>1.90858e5</td><td>0</td></tr><tr><th>15</th><td>15</td><td>15600882</td><td>Scott</td><td>635</td><td>Spain</td><td>Female</td><td>35</td><td>7</td><td>0.0</td><td>2</td><td>1</td><td>1</td><td>65951.6</td><td>0</td></tr><tr><th>16</th><td>16</td><td>15643966</td><td>Goforth</td><td>616</td><td>Germany</td><td>Male</td><td>45</td><td>3</td><td>1.43129e5</td><td>2</td><td>0</td><td>1</td><td>64327.3</td><td>0</td></tr><tr><th>17</th><td>17</td><td>15737452</td><td>Romeo</td><td>653</td><td>Germany</td><td>Male</td><td>58</td><td>1</td><td>1.32603e5</td><td>1</td><td>1</td><td>0</td><td>5097.67</td><td>1</td></tr><tr><th>18</th><td>18</td><td>15788218</td><td>Henderson</td><td>549</td><td>Spain</td><td>Female</td><td>24</td><td>9</td><td>0.0</td><td>2</td><td>1</td><td>1</td><td>14406.4</td><td>0</td></tr><tr><th>19</th><td>19</td><td>15661507</td><td>Muldrow</td><td>587</td><td>Spain</td><td>Male</td><td>45</td><td>6</td><td>0.0</td><td>1</td><td>0</td><td>0</td><td>1.58685e5</td><td>0</td></tr><tr><th>20</th><td>20</td><td>15568982</td><td>Hao</td><td>726</td><td>France</td><td>Female</td><td>24</td><td>6</td><td>0.0</td><td>2</td><td>1</td><td>1</td><td>54724.0</td><td>0</td></tr><tr><th>21</th><td>21</td><td>15577657</td><td>McDonald</td><td>732</td><td>France</td><td>Male</td><td>41</td><td>8</td><td>0.0</td><td>2</td><td>1</td><td>1</td><td>1.70886e5</td><td>0</td></tr><tr><th>22</th><td>22</td><td>15597945</td><td>Dellucci</td><td>636</td><td>Spain</td><td>Female</td><td>32</td><td>8</td><td>0.0</td><td>2</td><td>1</td><td>0</td><td>1.38555e5</td><td>0</td></tr><tr><th>23</th><td>23</td><td>15699309</td><td>Gerasimov</td><td>510</td><td>Spain</td><td>Female</td><td>38</td><td>4</td><td>0.0</td><td>1</td><td>1</td><td>0</td><td>1.18914e5</td><td>1</td></tr><tr><th>24</th><td>24</td><td>15725737</td><td>Mosman</td><td>669</td><td>France</td><td>Male</td><td>46</td><td>3</td><td>0.0</td><td>2</td><td>0</td><td>1</td><td>8487.75</td><td>0</td></tr><tr><th>25</th><td>25</td><td>15625047</td><td>Yen</td><td>846</td><td>France</td><td>Female</td><td>38</td><td>5</td><td>0.0</td><td>1</td><td>1</td><td>1</td><td>1.87616e5</td><td>0</td></tr><tr><th>26</th><td>26</td><td>15738191</td><td>Maclean</td><td>577</td><td>France</td><td>Male</td><td>25</td><td>3</td><td>0.0</td><td>2</td><td>0</td><td>1</td><td>1.24508e5</td><td>0</td></tr><tr><th>27</th><td>27</td><td>15736816</td><td>Young</td><td>756</td><td>Germany</td><td>Male</td><td>36</td><td>2</td><td>1.36816e5</td><td>1</td><td>1</td><td>1</td><td>170042.0</td><td>0</td></tr><tr><th>28</th><td>28</td><td>15700772</td><td>Nebechi</td><td>571</td><td>France</td><td>Male</td><td>44</td><td>9</td><td>0.0</td><td>2</td><td>0</td><td>0</td><td>38433.3</td><td>0</td></tr><tr><th>29</th><td>29</td><td>15728693</td><td>McWilliams</td><td>574</td><td>Germany</td><td>Female</td><td>43</td><td>3</td><td>1.41349e5</td><td>1</td><td>1</td><td>1</td><td>1.00187e5</td><td>0</td></tr><tr><th>30</th><td>30</td><td>15656300</td><td>Lucciano</td><td>411</td><td>France</td><td>Male</td><td>29</td><td>0</td><td>59697.2</td><td>2</td><td>1</td><td>1</td><td>53483.2</td><td>0</td></tr><tr><th>&vellip;</th><td>&vellip;</td><td>&vellip;</td><td>&vellip;</td><td>&vellip;</td><td>&vellip;</td><td>&vellip;</td><td>&vellip;</td><td>&vellip;</td><td>&vellip;</td><td>&vellip;</td><td>&vellip;</td><td>&vellip;</td><td>&vellip;</td><td>&vellip;</td></tr></tbody></table>"
      ],
      "text/latex": [
       "\\begin{tabular}{r|cccccccccccccc}\n",
       "\t& RowNumber & CustomerId & Surname & CreditScore & Geography & Gender & Age & Tenure & Balance & NumOfProducts & HasCrCard & IsActiveMember & EstimatedSalary & Exited\\\\\n",
       "\t\\hline\n",
       "\t& Int64 & Int64 & String & Int64 & String & String & Int64 & Int64 & Float64 & Int64 & Int64 & Int64 & Float64 & Int64\\\\\n",
       "\t\\hline\n",
       "\t1 & 1 & 15634602 & Hargrave & 619 & France & Female & 42 & 2 & 0.0 & 1 & 1 & 1 & 1.01349e5 & 1 \\\\\n",
       "\t2 & 2 & 15647311 & Hill & 608 & Spain & Female & 41 & 1 & 83807.9 & 1 & 0 & 1 & 1.12543e5 & 0 \\\\\n",
       "\t3 & 3 & 15619304 & Onio & 502 & France & Female & 42 & 8 & 1.59661e5 & 3 & 1 & 0 & 1.13932e5 & 1 \\\\\n",
       "\t4 & 4 & 15701354 & Boni & 699 & France & Female & 39 & 1 & 0.0 & 2 & 0 & 0 & 93826.6 & 0 \\\\\n",
       "\t5 & 5 & 15737888 & Mitchell & 850 & Spain & Female & 43 & 2 & 1.25511e5 & 1 & 1 & 1 & 79084.1 & 0 \\\\\n",
       "\t6 & 6 & 15574012 & Chu & 645 & Spain & Male & 44 & 8 & 1.13756e5 & 2 & 1 & 0 & 1.49757e5 & 1 \\\\\n",
       "\t7 & 7 & 15592531 & Bartlett & 822 & France & Male & 50 & 7 & 0.0 & 2 & 1 & 1 & 10062.8 & 0 \\\\\n",
       "\t8 & 8 & 15656148 & Obinna & 376 & Germany & Female & 29 & 4 & 1.15047e5 & 4 & 1 & 0 & 1.19347e5 & 1 \\\\\n",
       "\t9 & 9 & 15792365 & He & 501 & France & Male & 44 & 4 & 1.42051e5 & 2 & 0 & 1 & 74940.5 & 0 \\\\\n",
       "\t10 & 10 & 15592389 & H? & 684 & France & Male & 27 & 2 & 1.34604e5 & 1 & 1 & 1 & 71725.7 & 0 \\\\\n",
       "\t11 & 11 & 15767821 & Bearce & 528 & France & Male & 31 & 6 & 1.02017e5 & 2 & 0 & 0 & 80181.1 & 0 \\\\\n",
       "\t12 & 12 & 15737173 & Andrews & 497 & Spain & Male & 24 & 3 & 0.0 & 2 & 1 & 0 & 76390.0 & 0 \\\\\n",
       "\t13 & 13 & 15632264 & Kay & 476 & France & Female & 34 & 10 & 0.0 & 2 & 1 & 0 & 26261.0 & 0 \\\\\n",
       "\t14 & 14 & 15691483 & Chin & 549 & France & Female & 25 & 5 & 0.0 & 2 & 0 & 0 & 1.90858e5 & 0 \\\\\n",
       "\t15 & 15 & 15600882 & Scott & 635 & Spain & Female & 35 & 7 & 0.0 & 2 & 1 & 1 & 65951.6 & 0 \\\\\n",
       "\t16 & 16 & 15643966 & Goforth & 616 & Germany & Male & 45 & 3 & 1.43129e5 & 2 & 0 & 1 & 64327.3 & 0 \\\\\n",
       "\t17 & 17 & 15737452 & Romeo & 653 & Germany & Male & 58 & 1 & 1.32603e5 & 1 & 1 & 0 & 5097.67 & 1 \\\\\n",
       "\t18 & 18 & 15788218 & Henderson & 549 & Spain & Female & 24 & 9 & 0.0 & 2 & 1 & 1 & 14406.4 & 0 \\\\\n",
       "\t19 & 19 & 15661507 & Muldrow & 587 & Spain & Male & 45 & 6 & 0.0 & 1 & 0 & 0 & 1.58685e5 & 0 \\\\\n",
       "\t20 & 20 & 15568982 & Hao & 726 & France & Female & 24 & 6 & 0.0 & 2 & 1 & 1 & 54724.0 & 0 \\\\\n",
       "\t21 & 21 & 15577657 & McDonald & 732 & France & Male & 41 & 8 & 0.0 & 2 & 1 & 1 & 1.70886e5 & 0 \\\\\n",
       "\t22 & 22 & 15597945 & Dellucci & 636 & Spain & Female & 32 & 8 & 0.0 & 2 & 1 & 0 & 1.38555e5 & 0 \\\\\n",
       "\t23 & 23 & 15699309 & Gerasimov & 510 & Spain & Female & 38 & 4 & 0.0 & 1 & 1 & 0 & 1.18914e5 & 1 \\\\\n",
       "\t24 & 24 & 15725737 & Mosman & 669 & France & Male & 46 & 3 & 0.0 & 2 & 0 & 1 & 8487.75 & 0 \\\\\n",
       "\t25 & 25 & 15625047 & Yen & 846 & France & Female & 38 & 5 & 0.0 & 1 & 1 & 1 & 1.87616e5 & 0 \\\\\n",
       "\t26 & 26 & 15738191 & Maclean & 577 & France & Male & 25 & 3 & 0.0 & 2 & 0 & 1 & 1.24508e5 & 0 \\\\\n",
       "\t27 & 27 & 15736816 & Young & 756 & Germany & Male & 36 & 2 & 1.36816e5 & 1 & 1 & 1 & 170042.0 & 0 \\\\\n",
       "\t28 & 28 & 15700772 & Nebechi & 571 & France & Male & 44 & 9 & 0.0 & 2 & 0 & 0 & 38433.3 & 0 \\\\\n",
       "\t29 & 29 & 15728693 & McWilliams & 574 & Germany & Female & 43 & 3 & 1.41349e5 & 1 & 1 & 1 & 1.00187e5 & 0 \\\\\n",
       "\t30 & 30 & 15656300 & Lucciano & 411 & France & Male & 29 & 0 & 59697.2 & 2 & 1 & 1 & 53483.2 & 0 \\\\\n",
       "\t$\\dots$ & $\\dots$ & $\\dots$ & $\\dots$ & $\\dots$ & $\\dots$ & $\\dots$ & $\\dots$ & $\\dots$ & $\\dots$ & $\\dots$ & $\\dots$ & $\\dots$ & $\\dots$ & $\\dots$ \\\\\n",
       "\\end{tabular}\n"
      ],
      "text/plain": [
       "10000×14 typename(DataFrame)\n",
       "│ Row   │ RowNumber │ CustomerId │ Surname     │ CreditScore │ Geography │ Gender │ Age   │ Tenure │ Balance   │ NumOfProducts │ HasCrCard │ IsActiveMember │ EstimatedSalary │ Exited │\n",
       "│       │ \u001b[90mInt64\u001b[39m     │ \u001b[90mInt64\u001b[39m      │ \u001b[90mString\u001b[39m      │ \u001b[90mInt64\u001b[39m       │ \u001b[90mString\u001b[39m    │ \u001b[90mString\u001b[39m │ \u001b[90mInt64\u001b[39m │ \u001b[90mInt64\u001b[39m  │ \u001b[90mFloat64\u001b[39m   │ \u001b[90mInt64\u001b[39m         │ \u001b[90mInt64\u001b[39m     │ \u001b[90mInt64\u001b[39m          │ \u001b[90mFloat64\u001b[39m         │ \u001b[90mInt64\u001b[39m  │\n",
       "├───────┼───────────┼────────────┼─────────────┼─────────────┼───────────┼────────┼───────┼────────┼───────────┼───────────────┼───────────┼────────────────┼─────────────────┼────────┤\n",
       "│ 1     │ 1         │ 15634602   │ Hargrave    │ 619         │ France    │ Female │ 42    │ 2      │ 0.0       │ 1             │ 1         │ 1              │ 1.01349e5       │ 1      │\n",
       "│ 2     │ 2         │ 15647311   │ Hill        │ 608         │ Spain     │ Female │ 41    │ 1      │ 83807.9   │ 1             │ 0         │ 1              │ 1.12543e5       │ 0      │\n",
       "│ 3     │ 3         │ 15619304   │ Onio        │ 502         │ France    │ Female │ 42    │ 8      │ 1.59661e5 │ 3             │ 1         │ 0              │ 1.13932e5       │ 1      │\n",
       "│ 4     │ 4         │ 15701354   │ Boni        │ 699         │ France    │ Female │ 39    │ 1      │ 0.0       │ 2             │ 0         │ 0              │ 93826.6         │ 0      │\n",
       "│ 5     │ 5         │ 15737888   │ Mitchell    │ 850         │ Spain     │ Female │ 43    │ 2      │ 1.25511e5 │ 1             │ 1         │ 1              │ 79084.1         │ 0      │\n",
       "│ 6     │ 6         │ 15574012   │ Chu         │ 645         │ Spain     │ Male   │ 44    │ 8      │ 1.13756e5 │ 2             │ 1         │ 0              │ 1.49757e5       │ 1      │\n",
       "│ 7     │ 7         │ 15592531   │ Bartlett    │ 822         │ France    │ Male   │ 50    │ 7      │ 0.0       │ 2             │ 1         │ 1              │ 10062.8         │ 0      │\n",
       "│ 8     │ 8         │ 15656148   │ Obinna      │ 376         │ Germany   │ Female │ 29    │ 4      │ 1.15047e5 │ 4             │ 1         │ 0              │ 1.19347e5       │ 1      │\n",
       "│ 9     │ 9         │ 15792365   │ He          │ 501         │ France    │ Male   │ 44    │ 4      │ 1.42051e5 │ 2             │ 0         │ 1              │ 74940.5         │ 0      │\n",
       "│ 10    │ 10        │ 15592389   │ H?          │ 684         │ France    │ Male   │ 27    │ 2      │ 1.34604e5 │ 1             │ 1         │ 1              │ 71725.7         │ 0      │\n",
       "⋮\n",
       "│ 9990  │ 9990      │ 15605622   │ McMillan    │ 841         │ Spain     │ Male   │ 28    │ 4      │ 0.0       │ 2             │ 1         │ 1              │ 1.79437e5       │ 0      │\n",
       "│ 9991  │ 9991      │ 15798964   │ Nkemakonam  │ 714         │ Germany   │ Male   │ 33    │ 3      │ 35016.6   │ 1             │ 1         │ 0              │ 53667.1         │ 0      │\n",
       "│ 9992  │ 9992      │ 15769959   │ Ajuluchukwu │ 597         │ France    │ Female │ 53    │ 4      │ 88381.2   │ 1             │ 1         │ 0              │ 69384.7         │ 1      │\n",
       "│ 9993  │ 9993      │ 15657105   │ Chukwualuka │ 726         │ Spain     │ Male   │ 36    │ 2      │ 0.0       │ 1             │ 1         │ 0              │ 1.95192e5       │ 0      │\n",
       "│ 9994  │ 9994      │ 15569266   │ Rahman      │ 644         │ France    │ Male   │ 28    │ 7      │ 1.5506e5  │ 1             │ 1         │ 0              │ 29179.5         │ 0      │\n",
       "│ 9995  │ 9995      │ 15719294   │ Wood        │ 800         │ France    │ Female │ 29    │ 2      │ 0.0       │ 2             │ 0         │ 0              │ 1.67774e5       │ 0      │\n",
       "│ 9996  │ 9996      │ 15606229   │ Obijiaku    │ 771         │ France    │ Male   │ 39    │ 5      │ 0.0       │ 2             │ 1         │ 0              │ 96270.6         │ 0      │\n",
       "│ 9997  │ 9997      │ 15569892   │ Johnstone   │ 516         │ France    │ Male   │ 35    │ 10     │ 57369.6   │ 1             │ 1         │ 1              │ 1.017e5         │ 0      │\n",
       "│ 9998  │ 9998      │ 15584532   │ Liu         │ 709         │ France    │ Female │ 36    │ 7      │ 0.0       │ 1             │ 0         │ 1              │ 42085.6         │ 1      │\n",
       "│ 9999  │ 9999      │ 15682355   │ Sabbatini   │ 772         │ Germany   │ Male   │ 42    │ 3      │ 75075.3   │ 2             │ 1         │ 0              │ 92888.5         │ 1      │\n",
       "│ 10000 │ 10000     │ 15628319   │ Walker      │ 792         │ France    │ Female │ 28    │ 4      │ 1.30143e5 │ 1             │ 1         │ 0              │ 38190.8         │ 0      │"
      ]
     },
     "execution_count": 11,
     "metadata": {},
     "output_type": "execute_result"
    }
   ],
   "source": [
    "#Read the file using CSV.file and convert it to DataFrame\n",
    "df = DataFrame(CSV.File(\"Churn_Modelling.csv\"))"
   ]
  },
  {
   "cell_type": "code",
   "execution_count": 12,
   "metadata": {},
   "outputs": [
    {
     "data": {
      "text/html": [
       "<table class=\"data-frame\"><thead><tr><th></th><th>RowNumber</th><th>CustomerId</th><th>Surname</th><th>CreditScore</th><th>Geography</th><th>Gender</th><th>Age</th><th>Tenure</th><th>Balance</th><th>NumOfProducts</th><th>HasCrCard</th><th>IsActiveMember</th><th>EstimatedSalary</th><th>Exited</th></tr><tr><th></th><th>Int64</th><th>Int64</th><th>String</th><th>Int64</th><th>String</th><th>String</th><th>Int64</th><th>Int64</th><th>Float64</th><th>Int64</th><th>Int64</th><th>Int64</th><th>Float64</th><th>Int64</th></tr></thead><tbody><p>5 rows × 14 columns</p><tr><th>1</th><td>1</td><td>15634602</td><td>Hargrave</td><td>619</td><td>France</td><td>Female</td><td>42</td><td>2</td><td>0.0</td><td>1</td><td>1</td><td>1</td><td>1.01349e5</td><td>1</td></tr><tr><th>2</th><td>2</td><td>15647311</td><td>Hill</td><td>608</td><td>Spain</td><td>Female</td><td>41</td><td>1</td><td>83807.9</td><td>1</td><td>0</td><td>1</td><td>1.12543e5</td><td>0</td></tr><tr><th>3</th><td>3</td><td>15619304</td><td>Onio</td><td>502</td><td>France</td><td>Female</td><td>42</td><td>8</td><td>1.59661e5</td><td>3</td><td>1</td><td>0</td><td>1.13932e5</td><td>1</td></tr><tr><th>4</th><td>4</td><td>15701354</td><td>Boni</td><td>699</td><td>France</td><td>Female</td><td>39</td><td>1</td><td>0.0</td><td>2</td><td>0</td><td>0</td><td>93826.6</td><td>0</td></tr><tr><th>5</th><td>5</td><td>15737888</td><td>Mitchell</td><td>850</td><td>Spain</td><td>Female</td><td>43</td><td>2</td><td>1.25511e5</td><td>1</td><td>1</td><td>1</td><td>79084.1</td><td>0</td></tr></tbody></table>"
      ],
      "text/latex": [
       "\\begin{tabular}{r|cccccccccccccc}\n",
       "\t& RowNumber & CustomerId & Surname & CreditScore & Geography & Gender & Age & Tenure & Balance & NumOfProducts & HasCrCard & IsActiveMember & EstimatedSalary & Exited\\\\\n",
       "\t\\hline\n",
       "\t& Int64 & Int64 & String & Int64 & String & String & Int64 & Int64 & Float64 & Int64 & Int64 & Int64 & Float64 & Int64\\\\\n",
       "\t\\hline\n",
       "\t1 & 1 & 15634602 & Hargrave & 619 & France & Female & 42 & 2 & 0.0 & 1 & 1 & 1 & 1.01349e5 & 1 \\\\\n",
       "\t2 & 2 & 15647311 & Hill & 608 & Spain & Female & 41 & 1 & 83807.9 & 1 & 0 & 1 & 1.12543e5 & 0 \\\\\n",
       "\t3 & 3 & 15619304 & Onio & 502 & France & Female & 42 & 8 & 1.59661e5 & 3 & 1 & 0 & 1.13932e5 & 1 \\\\\n",
       "\t4 & 4 & 15701354 & Boni & 699 & France & Female & 39 & 1 & 0.0 & 2 & 0 & 0 & 93826.6 & 0 \\\\\n",
       "\t5 & 5 & 15737888 & Mitchell & 850 & Spain & Female & 43 & 2 & 1.25511e5 & 1 & 1 & 1 & 79084.1 & 0 \\\\\n",
       "\\end{tabular}\n"
      ],
      "text/plain": [
       "5×14 typename(DataFrame)\n",
       "│ Row │ RowNumber │ CustomerId │ Surname  │ CreditScore │ Geography │ Gender │ Age   │ Tenure │ Balance   │ NumOfProducts │ HasCrCard │ IsActiveMember │ EstimatedSalary │ Exited │\n",
       "│     │ \u001b[90mInt64\u001b[39m     │ \u001b[90mInt64\u001b[39m      │ \u001b[90mString\u001b[39m   │ \u001b[90mInt64\u001b[39m       │ \u001b[90mString\u001b[39m    │ \u001b[90mString\u001b[39m │ \u001b[90mInt64\u001b[39m │ \u001b[90mInt64\u001b[39m  │ \u001b[90mFloat64\u001b[39m   │ \u001b[90mInt64\u001b[39m         │ \u001b[90mInt64\u001b[39m     │ \u001b[90mInt64\u001b[39m          │ \u001b[90mFloat64\u001b[39m         │ \u001b[90mInt64\u001b[39m  │\n",
       "├─────┼───────────┼────────────┼──────────┼─────────────┼───────────┼────────┼───────┼────────┼───────────┼───────────────┼───────────┼────────────────┼─────────────────┼────────┤\n",
       "│ 1   │ 1         │ 15634602   │ Hargrave │ 619         │ France    │ Female │ 42    │ 2      │ 0.0       │ 1             │ 1         │ 1              │ 1.01349e5       │ 1      │\n",
       "│ 2   │ 2         │ 15647311   │ Hill     │ 608         │ Spain     │ Female │ 41    │ 1      │ 83807.9   │ 1             │ 0         │ 1              │ 1.12543e5       │ 0      │\n",
       "│ 3   │ 3         │ 15619304   │ Onio     │ 502         │ France    │ Female │ 42    │ 8      │ 1.59661e5 │ 3             │ 1         │ 0              │ 1.13932e5       │ 1      │\n",
       "│ 4   │ 4         │ 15701354   │ Boni     │ 699         │ France    │ Female │ 39    │ 1      │ 0.0       │ 2             │ 0         │ 0              │ 93826.6         │ 0      │\n",
       "│ 5   │ 5         │ 15737888   │ Mitchell │ 850         │ Spain     │ Female │ 43    │ 2      │ 1.25511e5 │ 1             │ 1         │ 1              │ 79084.1         │ 0      │"
      ]
     },
     "execution_count": 12,
     "metadata": {},
     "output_type": "execute_result"
    }
   ],
   "source": [
    "first(df, 5)"
   ]
  },
  {
   "cell_type": "markdown",
   "metadata": {},
   "source": [
    "# Summery of Data Set"
   ]
  },
  {
   "cell_type": "code",
   "execution_count": 13,
   "metadata": {},
   "outputs": [
    {
     "name": "stdout",
     "output_type": "stream",
     "text": [
      "(10000, 14)\n"
     ]
    },
    {
     "data": {
      "text/html": [
       "<table class=\"data-frame\"><thead><tr><th></th><th>variable</th><th>mean</th><th>min</th><th>median</th><th>max</th><th>nunique</th><th>nmissing</th><th>eltype</th></tr><tr><th></th><th>Symbol</th><th>Union…</th><th>Any</th><th>Union…</th><th>Any</th><th>Union…</th><th>Nothing</th><th>DataType</th></tr></thead><tbody><p>14 rows × 8 columns</p><tr><th>1</th><td>RowNumber</td><td>5000.5</td><td>1</td><td>5000.5</td><td>10000</td><td></td><td></td><td>Int64</td></tr><tr><th>2</th><td>CustomerId</td><td>1.56909e7</td><td>15565701</td><td>1.56907e7</td><td>15815690</td><td></td><td></td><td>Int64</td></tr><tr><th>3</th><td>Surname</td><td></td><td>Abazu</td><td></td><td>Zuyeva</td><td>2932</td><td></td><td>String</td></tr><tr><th>4</th><td>CreditScore</td><td>650.529</td><td>350</td><td>652.0</td><td>850</td><td></td><td></td><td>Int64</td></tr><tr><th>5</th><td>Geography</td><td></td><td>France</td><td></td><td>Spain</td><td>3</td><td></td><td>String</td></tr><tr><th>6</th><td>Gender</td><td></td><td>Female</td><td></td><td>Male</td><td>2</td><td></td><td>String</td></tr><tr><th>7</th><td>Age</td><td>38.9218</td><td>18</td><td>37.0</td><td>92</td><td></td><td></td><td>Int64</td></tr><tr><th>8</th><td>Tenure</td><td>5.0128</td><td>0</td><td>5.0</td><td>10</td><td></td><td></td><td>Int64</td></tr><tr><th>9</th><td>Balance</td><td>76485.9</td><td>0.0</td><td>97198.5</td><td>2.50898e5</td><td></td><td></td><td>Float64</td></tr><tr><th>10</th><td>NumOfProducts</td><td>1.5302</td><td>1</td><td>1.0</td><td>4</td><td></td><td></td><td>Int64</td></tr><tr><th>11</th><td>HasCrCard</td><td>0.7055</td><td>0</td><td>1.0</td><td>1</td><td></td><td></td><td>Int64</td></tr><tr><th>12</th><td>IsActiveMember</td><td>0.5151</td><td>0</td><td>1.0</td><td>1</td><td></td><td></td><td>Int64</td></tr><tr><th>13</th><td>EstimatedSalary</td><td>1.0009e5</td><td>11.58</td><td>1.00194e5</td><td>1.99992e5</td><td></td><td></td><td>Float64</td></tr><tr><th>14</th><td>Exited</td><td>0.2037</td><td>0</td><td>0.0</td><td>1</td><td></td><td></td><td>Int64</td></tr></tbody></table>"
      ],
      "text/latex": [
       "\\begin{tabular}{r|cccccccc}\n",
       "\t& variable & mean & min & median & max & nunique & nmissing & eltype\\\\\n",
       "\t\\hline\n",
       "\t& Symbol & Union… & Any & Union… & Any & Union… & Nothing & DataType\\\\\n",
       "\t\\hline\n",
       "\t1 & RowNumber & 5000.5 & 1 & 5000.5 & 10000 &  &  & Int64 \\\\\n",
       "\t2 & CustomerId & 1.56909e7 & 15565701 & 1.56907e7 & 15815690 &  &  & Int64 \\\\\n",
       "\t3 & Surname &  & Abazu &  & Zuyeva & 2932 &  & String \\\\\n",
       "\t4 & CreditScore & 650.529 & 350 & 652.0 & 850 &  &  & Int64 \\\\\n",
       "\t5 & Geography &  & France &  & Spain & 3 &  & String \\\\\n",
       "\t6 & Gender &  & Female &  & Male & 2 &  & String \\\\\n",
       "\t7 & Age & 38.9218 & 18 & 37.0 & 92 &  &  & Int64 \\\\\n",
       "\t8 & Tenure & 5.0128 & 0 & 5.0 & 10 &  &  & Int64 \\\\\n",
       "\t9 & Balance & 76485.9 & 0.0 & 97198.5 & 2.50898e5 &  &  & Float64 \\\\\n",
       "\t10 & NumOfProducts & 1.5302 & 1 & 1.0 & 4 &  &  & Int64 \\\\\n",
       "\t11 & HasCrCard & 0.7055 & 0 & 1.0 & 1 &  &  & Int64 \\\\\n",
       "\t12 & IsActiveMember & 0.5151 & 0 & 1.0 & 1 &  &  & Int64 \\\\\n",
       "\t13 & EstimatedSalary & 1.0009e5 & 11.58 & 1.00194e5 & 1.99992e5 &  &  & Float64 \\\\\n",
       "\t14 & Exited & 0.2037 & 0 & 0.0 & 1 &  &  & Int64 \\\\\n",
       "\\end{tabular}\n"
      ],
      "text/plain": [
       "14×8 typename(DataFrame)\n",
       "│ Row │ variable        │ mean      │ min      │ median    │ max       │ nunique │ nmissing │ eltype   │\n",
       "│     │ \u001b[90mSymbol\u001b[39m          │ \u001b[90mUnion…\u001b[39m    │ \u001b[90mAny\u001b[39m      │ \u001b[90mUnion…\u001b[39m    │ \u001b[90mAny\u001b[39m       │ \u001b[90mUnion…\u001b[39m  │ \u001b[90mNothing\u001b[39m  │ \u001b[90mDataType\u001b[39m │\n",
       "├─────┼─────────────────┼───────────┼──────────┼───────────┼───────────┼─────────┼──────────┼──────────┤\n",
       "│ 1   │ RowNumber       │ 5000.5    │ 1        │ 5000.5    │ 10000     │         │          │ Int64    │\n",
       "│ 2   │ CustomerId      │ 1.56909e7 │ 15565701 │ 1.56907e7 │ 15815690  │         │          │ Int64    │\n",
       "│ 3   │ Surname         │           │ Abazu    │           │ Zuyeva    │ 2932    │          │ String   │\n",
       "│ 4   │ CreditScore     │ 650.529   │ 350      │ 652.0     │ 850       │         │          │ Int64    │\n",
       "│ 5   │ Geography       │           │ France   │           │ Spain     │ 3       │          │ String   │\n",
       "│ 6   │ Gender          │           │ Female   │           │ Male      │ 2       │          │ String   │\n",
       "│ 7   │ Age             │ 38.9218   │ 18       │ 37.0      │ 92        │         │          │ Int64    │\n",
       "│ 8   │ Tenure          │ 5.0128    │ 0        │ 5.0       │ 10        │         │          │ Int64    │\n",
       "│ 9   │ Balance         │ 76485.9   │ 0.0      │ 97198.5   │ 2.50898e5 │         │          │ Float64  │\n",
       "│ 10  │ NumOfProducts   │ 1.5302    │ 1        │ 1.0       │ 4         │         │          │ Int64    │\n",
       "│ 11  │ HasCrCard       │ 0.7055    │ 0        │ 1.0       │ 1         │         │          │ Int64    │\n",
       "│ 12  │ IsActiveMember  │ 0.5151    │ 0        │ 1.0       │ 1         │         │          │ Int64    │\n",
       "│ 13  │ EstimatedSalary │ 1.0009e5  │ 11.58    │ 1.00194e5 │ 1.99992e5 │         │          │ Float64  │\n",
       "│ 14  │ Exited          │ 0.2037    │ 0        │ 0.0       │ 1         │         │          │ Int64    │"
      ]
     },
     "execution_count": 13,
     "metadata": {},
     "output_type": "execute_result"
    }
   ],
   "source": [
    "println(size(df))\n",
    "describe(df)"
   ]
  },
  {
   "cell_type": "markdown",
   "metadata": {},
   "source": [
    "# Checking the names of columns of Dataset"
   ]
  },
  {
   "cell_type": "code",
   "execution_count": 14,
   "metadata": {},
   "outputs": [
    {
     "data": {
      "text/plain": [
       "14-element Vector{Symbol}:\n",
       " :RowNumber\n",
       " :CustomerId\n",
       " :Surname\n",
       " :CreditScore\n",
       " :Geography\n",
       " :Gender\n",
       " :Age\n",
       " :Tenure\n",
       " :Balance\n",
       " :NumOfProducts\n",
       " :HasCrCard\n",
       " :IsActiveMember\n",
       " :EstimatedSalary\n",
       " :Exited"
      ]
     },
     "execution_count": 14,
     "metadata": {},
     "output_type": "execute_result"
    }
   ],
   "source": [
    "names(df)"
   ]
  },
  {
   "cell_type": "markdown",
   "metadata": {},
   "source": [
    "# One Hot encoding"
   ]
  },
  {
   "cell_type": "code",
   "execution_count": 16,
   "metadata": {},
   "outputs": [
    {
     "data": {
      "text/html": [
       "<table class=\"data-frame\"><thead><tr><th></th><th>CreditScore</th><th>Age</th><th>Tenure</th><th>Balance</th><th>NumOfProducts</th><th>HasCrCard</th><th>IsActiveMember</th><th>EstimatedSalary</th><th>Exited</th><th>France</th><th>Spain</th><th>Germany</th><th>Female</th></tr><tr><th></th><th>Int64</th><th>Int64</th><th>Int64</th><th>Float64</th><th>Int64</th><th>Int64</th><th>Int64</th><th>Float64</th><th>Int64</th><th>Bool</th><th>Bool</th><th>Bool</th><th>Bool</th></tr></thead><tbody><p>5 rows × 13 columns</p><tr><th>1</th><td>619</td><td>42</td><td>2</td><td>0.0</td><td>1</td><td>1</td><td>1</td><td>1.01349e5</td><td>1</td><td>1</td><td>0</td><td>0</td><td>1</td></tr><tr><th>2</th><td>608</td><td>41</td><td>1</td><td>83807.9</td><td>1</td><td>0</td><td>1</td><td>1.12543e5</td><td>0</td><td>0</td><td>1</td><td>0</td><td>1</td></tr><tr><th>3</th><td>502</td><td>42</td><td>8</td><td>1.59661e5</td><td>3</td><td>1</td><td>0</td><td>1.13932e5</td><td>1</td><td>1</td><td>0</td><td>0</td><td>1</td></tr><tr><th>4</th><td>699</td><td>39</td><td>1</td><td>0.0</td><td>2</td><td>0</td><td>0</td><td>93826.6</td><td>0</td><td>1</td><td>0</td><td>0</td><td>1</td></tr><tr><th>5</th><td>850</td><td>43</td><td>2</td><td>1.25511e5</td><td>1</td><td>1</td><td>1</td><td>79084.1</td><td>0</td><td>0</td><td>1</td><td>0</td><td>1</td></tr></tbody></table>"
      ],
      "text/latex": [
       "\\begin{tabular}{r|ccccccccccccc}\n",
       "\t& CreditScore & Age & Tenure & Balance & NumOfProducts & HasCrCard & IsActiveMember & EstimatedSalary & Exited & France & Spain & Germany & Female\\\\\n",
       "\t\\hline\n",
       "\t& Int64 & Int64 & Int64 & Float64 & Int64 & Int64 & Int64 & Float64 & Int64 & Bool & Bool & Bool & Bool\\\\\n",
       "\t\\hline\n",
       "\t1 & 619 & 42 & 2 & 0.0 & 1 & 1 & 1 & 1.01349e5 & 1 & 1 & 0 & 0 & 1 \\\\\n",
       "\t2 & 608 & 41 & 1 & 83807.9 & 1 & 0 & 1 & 1.12543e5 & 0 & 0 & 1 & 0 & 1 \\\\\n",
       "\t3 & 502 & 42 & 8 & 1.59661e5 & 3 & 1 & 0 & 1.13932e5 & 1 & 1 & 0 & 0 & 1 \\\\\n",
       "\t4 & 699 & 39 & 1 & 0.0 & 2 & 0 & 0 & 93826.6 & 0 & 1 & 0 & 0 & 1 \\\\\n",
       "\t5 & 850 & 43 & 2 & 1.25511e5 & 1 & 1 & 1 & 79084.1 & 0 & 0 & 1 & 0 & 1 \\\\\n",
       "\\end{tabular}\n"
      ],
      "text/plain": [
       "5×13 typename(DataFrame)\n",
       "│ Row │ CreditScore │ Age   │ Tenure │ Balance   │ NumOfProducts │ HasCrCard │ IsActiveMember │ EstimatedSalary │ Exited │ France │ Spain │ Germany │ Female │\n",
       "│     │ \u001b[90mInt64\u001b[39m       │ \u001b[90mInt64\u001b[39m │ \u001b[90mInt64\u001b[39m  │ \u001b[90mFloat64\u001b[39m   │ \u001b[90mInt64\u001b[39m         │ \u001b[90mInt64\u001b[39m     │ \u001b[90mInt64\u001b[39m          │ \u001b[90mFloat64\u001b[39m         │ \u001b[90mInt64\u001b[39m  │ \u001b[90mBool\u001b[39m   │ \u001b[90mBool\u001b[39m  │ \u001b[90mBool\u001b[39m    │ \u001b[90mBool\u001b[39m   │\n",
       "├─────┼─────────────┼───────┼────────┼───────────┼───────────────┼───────────┼────────────────┼─────────────────┼────────┼────────┼───────┼─────────┼────────┤\n",
       "│ 1   │ 619         │ 42    │ 2      │ 0.0       │ 1             │ 1         │ 1              │ 1.01349e5       │ 1      │ 1      │ 0     │ 0       │ 1      │\n",
       "│ 2   │ 608         │ 41    │ 1      │ 83807.9   │ 1             │ 0         │ 1              │ 1.12543e5       │ 0      │ 0      │ 1     │ 0       │ 1      │\n",
       "│ 3   │ 502         │ 42    │ 8      │ 1.59661e5 │ 3             │ 1         │ 0              │ 1.13932e5       │ 1      │ 1      │ 0     │ 0       │ 1      │\n",
       "│ 4   │ 699         │ 39    │ 1      │ 0.0       │ 2             │ 0         │ 0              │ 93826.6         │ 0      │ 1      │ 0     │ 0       │ 1      │\n",
       "│ 5   │ 850         │ 43    │ 2      │ 1.25511e5 │ 1             │ 1         │ 1              │ 79084.1         │ 0      │ 0      │ 1     │ 0       │ 1      │"
      ]
     },
     "execution_count": 16,
     "metadata": {},
     "output_type": "execute_result"
    }
   ],
   "source": [
    "Lathe.preprocess.OneHotEncode(df, :Geography)\n",
    "Lathe.preprocess.OneHotEncode(df, :Gender)\n",
    "select!(df, Not([:RowNumber, :CustomerId, :Surname, :Geography, :Gender, :Male]))\n",
    "first(df, 5)"
   ]
  },
  {
   "cell_type": "markdown",
   "metadata": {},
   "source": [
    "# Train Test Split"
   ]
  },
  {
   "cell_type": "code",
   "execution_count": 18,
   "metadata": {},
   "outputs": [],
   "source": [
    "using Lathe.preprocess: TrainTestSplit\n",
    "train, test = TrainTestSplit(df, .75);"
   ]
  },
  {
   "cell_type": "markdown",
   "metadata": {},
   "source": [
    "# Model Building"
   ]
  },
  {
   "cell_type": "code",
   "execution_count": 19,
   "metadata": {},
   "outputs": [
    {
     "data": {
      "text/plain": [
       "StatsModels.TableRegressionModel{GeneralizedLinearModel{GLM.GlmResp{Vector{Float64}, Binomial{Float64}, ProbitLink}, GLM.DensePredChol{Float64, LinearAlgebra.Cholesky{Float64, Matrix{Float64}}}}, Matrix{Float64}}\n",
       "\n",
       "Exited ~ 1 + CreditScore + Age + Tenure + Balance + NumOfProducts + HasCrCard + IsActiveMember + EstimatedSalary + Female + France + Spain\n",
       "\n",
       "Coefficients:\n",
       "───────────────────────────────────────────────────────────────────────────────────────\n",
       "                        Coef.   Std. Error       z  Pr(>|z|)     Lower 95%    Upper 95%\n",
       "───────────────────────────────────────────────────────────────────────────────────────\n",
       "(Intercept)      -1.8524       0.164767     -11.24    <1e-28  -2.17534      -1.52946\n",
       "CreditScore      -0.000356622  0.000181975   -1.96    0.0500  -0.000713286   4.22265e-8\n",
       "Age               0.0413351    0.00168389    24.55    <1e-99   0.0380347     0.0446355\n",
       "Tenure           -0.00982716   0.00612463    -1.60    0.1086  -0.0218312     0.00217689\n",
       "Balance           1.21567e-6   3.33155e-7     3.65    0.0003   5.62696e-7    1.86864e-6\n",
       "NumOfProducts    -0.0576654    0.0312636     -1.84    0.0651  -0.118941      0.00361006\n",
       "HasCrCard        -0.020514     0.0386302     -0.53    0.5954  -0.0962279     0.0551998\n",
       "IsActiveMember   -0.552767     0.036585     -15.11    <1e-50  -0.624472     -0.481061\n",
       "EstimatedSalary   3.51033e-7   3.08274e-7     1.14    0.2548  -2.53172e-7    9.55238e-7\n",
       "Female            0.307234     0.0355001      8.65    <1e-17   0.237655      0.376813\n",
       "France           -0.440546     0.0450182     -9.79    <1e-21  -0.52878      -0.352312\n",
       "Spain            -0.409756     0.0517223     -7.92    <1e-14  -0.511129     -0.308382\n",
       "───────────────────────────────────────────────────────────────────────────────────────"
      ]
     },
     "execution_count": 19,
     "metadata": {},
     "output_type": "execute_result"
    }
   ],
   "source": [
    "fm = @formula(Exited ~ CreditScore + Age +Tenure + Balance+ NumOfProducts + HasCrCard + IsActiveMember + EstimatedSalary + Female + France + Spain)\n",
    "logit = glm(fm, train, Binomial(), ProbitLink())"
   ]
  },
  {
   "cell_type": "markdown",
   "metadata": {},
   "source": [
    "# Model Prediction and Evaluation"
   ]
  },
  {
   "cell_type": "code",
   "execution_count": 20,
   "metadata": {},
   "outputs": [
    {
     "data": {
      "text/plain": [
       "2460-element Vector{Union{Missing, Float64}}:\n",
       " 0.17082772562964138\n",
       " 0.10147320916162565\n",
       " 0.12276396258600786\n",
       " 0.26049855153832163\n",
       " 0.04085221811722018\n",
       " 0.44537400333311933\n",
       " 0.4586683796094688\n",
       " 0.37550648836719713\n",
       " 0.3878695580011592\n",
       " 0.11800268837144035\n",
       " 0.27155860751889427\n",
       " 0.10115796131475303\n",
       " 0.15668049134936934\n",
       " ⋮\n",
       " 0.021037204869857832\n",
       " 0.050636667804533575\n",
       " 0.14914437817324216\n",
       " 0.36712397636487015\n",
       " 0.2263989198390772\n",
       " 0.5725367055680085\n",
       " 0.01924386687873638\n",
       " 0.2149912388297416\n",
       " 0.09451553060186903\n",
       " 0.13414317693925643\n",
       " 0.07854292489083779\n",
       " 0.14533705756813076"
      ]
     },
     "execution_count": 20,
     "metadata": {},
     "output_type": "execute_result"
    }
   ],
   "source": [
    "#Predict the target variable on the test data\n",
    "prediction = predict(logit, test)"
   ]
  },
  {
   "cell_type": "code",
   "execution_count": null,
   "metadata": {},
   "outputs": [],
   "source": []
  }
 ],
 "metadata": {
  "kernelspec": {
   "display_name": "Julia 1.6.0",
   "language": "julia",
   "name": "julia-1.6"
  },
  "language_info": {
   "file_extension": ".jl",
   "mimetype": "application/julia",
   "name": "julia",
   "version": "1.6.0"
  }
 },
 "nbformat": 4,
 "nbformat_minor": 4
}
